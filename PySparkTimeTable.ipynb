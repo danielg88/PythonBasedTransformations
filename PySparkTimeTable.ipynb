{
 "cells": [
  {
   "cell_type": "code",
   "execution_count": 1,
   "metadata": {},
   "outputs": [],
   "source": [
    "from pyspark.sql import SparkSession\n",
    "from pyspark.sql import functions as F\n",
    "from pyspark.sql import Window\n",
    "\n",
    "# Spark session & context\n",
    "spark = SparkSession.builder.master('local').getOrCreate()\n",
    "sc = spark.sparkContext"
   ]
  },
  {
   "cell_type": "code",
   "execution_count": 2,
   "metadata": {},
   "outputs": [],
   "source": [
    "df = spark.sql(\"SELECT sequence(to_date('2022-01-31'), to_date('2023-12-31'), interval 1 month) as closing_date\").withColumn('closing_date', F.explode(F.col('closing_date')))\n",
    "df2 = spark.sql(\"SELECT sequence(to_date('2020-01-31'), to_date('2023-12-31'), interval 1 month) as join_date\").withColumn('join_date', F.explode(F.col('join_date')))"
   ]
  },
  {
   "cell_type": "code",
   "execution_count": 3,
   "metadata": {},
   "outputs": [],
   "source": [
    "df = df.crossJoin(df2)"
   ]
  },
  {
   "cell_type": "code",
   "execution_count": 4,
   "metadata": {},
   "outputs": [],
   "source": [
    "# Filtrar dataframe para quedar solo con las 24 fechas menores a la de cierre.\n",
    "df = df.where((df.closing_date>=df.join_date) & (F.months_between('closing_date','join_date')<24) )"
   ]
  },
  {
   "cell_type": "code",
   "execution_count": 5,
   "metadata": {},
   "outputs": [],
   "source": [
    "new_columns = {'year': F.extract(F.lit('YEAR'),'closing_date'),\n",
    "               'cod_month': F.concat(F.year('closing_date'), F.date_format('closing_date', 'MM')) }\n",
    "\n",
    "df = df.withColumns(new_columns)\n",
    "\n",
    "wA = Window.orderBy(F.desc('closing_date')) #DESCENDING el order by\n",
    "wB = Window.orderBy(F.desc('year'))\n",
    "wC = Window.orderBy(F.desc('cod_month'))\n",
    "\n",
    "new_columns_ranks = {'closing_date_rank': F.dense_rank().over(wA),\n",
    "                     'year_rank': F.dense_rank().over(wB),\n",
    "                     'month_rank': F.dense_rank().over(wC)}\n",
    "df = df.withColumns(new_columns_ranks)\n"
   ]
  },
  {
   "cell_type": "code",
   "execution_count": 6,
   "metadata": {},
   "outputs": [],
   "source": [
    "flag_columns = {'flag_current_date': F.when(F.col('closing_date') == F.col('join_date'), 1).otherwise(0),\n",
    "                'flag_ytd': F.when(F.col('year') ==  F.extract(F.lit('YEAR'),'join_date'), 1).otherwise(0),\n",
    "                'flag_yoy': F.when((F.year('closing_date')-1 == F.year('join_date')) & (F.month('closing_date') == F.month('join_date')), 1).otherwise(0),\n",
    "                'flag_ytd_py': F.when((F.year('closing_date')-1 == F.year('join_date')) & (F.month('closing_date') >= F.month('join_date')), 1).otherwise(0),\n",
    "                'flag_mom': F.when(F.last_day(F.add_months(F.col('closing_date'),-1)) == F.col('join_date'), 1).otherwise(0),\n",
    "                'flag_l12m': F.when(F.last_day(F.add_months(F.col('closing_date'),-11)) <= F.col('join_date'), 1).otherwise(0),\n",
    "                'flag_l12m_py': F.when((F.last_day(F.add_months(F.col('closing_date'),-23)) <= F.col('join_date')) & (F.last_day(F.add_months(F.col('closing_date'),-12)) >= F.col('join_date')), 1).otherwise(0)\n",
    "\n",
    "\n",
    "}\n",
    "df = df.withColumns(flag_columns)\n"
   ]
  },
  {
   "cell_type": "code",
   "execution_count": 7,
   "metadata": {},
   "outputs": [
    {
     "name": "stdout",
     "output_type": "stream",
     "text": [
      "+------------+----------+----+---------+-----------------+---------+----------+-----------------+--------+--------+-----------+--------+---------+------------+\n",
      "|closing_date| join_date|year|cod_month|closing_date_rank|year_rank|month_rank|flag_current_date|flag_ytd|flag_yoy|flag_ytd_py|flag_mom|flag_l12m|flag_l12m_py|\n",
      "+------------+----------+----+---------+-----------------+---------+----------+-----------------+--------+--------+-----------+--------+---------+------------+\n",
      "|  2023-12-31|2022-01-31|2023|   202312|                1|        1|         1|                0|       0|       0|          1|       0|        0|           1|\n",
      "|  2023-12-31|2022-02-28|2023|   202312|                1|        1|         1|                0|       0|       0|          1|       0|        0|           1|\n",
      "|  2023-12-31|2022-03-31|2023|   202312|                1|        1|         1|                0|       0|       0|          1|       0|        0|           1|\n",
      "|  2023-12-31|2022-04-30|2023|   202312|                1|        1|         1|                0|       0|       0|          1|       0|        0|           1|\n",
      "|  2023-12-31|2022-05-31|2023|   202312|                1|        1|         1|                0|       0|       0|          1|       0|        0|           1|\n",
      "|  2023-12-31|2022-06-30|2023|   202312|                1|        1|         1|                0|       0|       0|          1|       0|        0|           1|\n",
      "|  2023-12-31|2022-07-31|2023|   202312|                1|        1|         1|                0|       0|       0|          1|       0|        0|           1|\n",
      "|  2023-12-31|2022-08-31|2023|   202312|                1|        1|         1|                0|       0|       0|          1|       0|        0|           1|\n",
      "|  2023-12-31|2022-09-30|2023|   202312|                1|        1|         1|                0|       0|       0|          1|       0|        0|           1|\n",
      "|  2023-12-31|2022-10-31|2023|   202312|                1|        1|         1|                0|       0|       0|          1|       0|        0|           1|\n",
      "|  2023-12-31|2022-11-30|2023|   202312|                1|        1|         1|                0|       0|       0|          1|       0|        0|           1|\n",
      "|  2023-12-31|2022-12-31|2023|   202312|                1|        1|         1|                0|       0|       1|          1|       0|        0|           1|\n",
      "|  2023-12-31|2023-01-31|2023|   202312|                1|        1|         1|                0|       1|       0|          0|       0|        1|           0|\n",
      "|  2023-12-31|2023-02-28|2023|   202312|                1|        1|         1|                0|       1|       0|          0|       0|        1|           0|\n",
      "|  2023-12-31|2023-03-31|2023|   202312|                1|        1|         1|                0|       1|       0|          0|       0|        1|           0|\n",
      "|  2023-12-31|2023-04-30|2023|   202312|                1|        1|         1|                0|       1|       0|          0|       0|        1|           0|\n",
      "|  2023-12-31|2023-05-31|2023|   202312|                1|        1|         1|                0|       1|       0|          0|       0|        1|           0|\n",
      "|  2023-12-31|2023-06-30|2023|   202312|                1|        1|         1|                0|       1|       0|          0|       0|        1|           0|\n",
      "|  2023-12-31|2023-07-31|2023|   202312|                1|        1|         1|                0|       1|       0|          0|       0|        1|           0|\n",
      "|  2023-12-31|2023-08-31|2023|   202312|                1|        1|         1|                0|       1|       0|          0|       0|        1|           0|\n",
      "|  2023-12-31|2023-09-30|2023|   202312|                1|        1|         1|                0|       1|       0|          0|       0|        1|           0|\n",
      "|  2023-12-31|2023-10-31|2023|   202312|                1|        1|         1|                0|       1|       0|          0|       0|        1|           0|\n",
      "|  2023-12-31|2023-11-30|2023|   202312|                1|        1|         1|                0|       1|       0|          0|       1|        1|           0|\n",
      "|  2023-12-31|2023-12-31|2023|   202312|                1|        1|         1|                1|       1|       0|          0|       0|        1|           0|\n",
      "+------------+----------+----+---------+-----------------+---------+----------+-----------------+--------+--------+-----------+--------+---------+------------+\n",
      "\n"
     ]
    }
   ],
   "source": [
    "df.where(df.closing_date=='2023-12-31').show(df.count())"
   ]
  },
  {
   "cell_type": "code",
   "execution_count": 8,
   "metadata": {},
   "outputs": [
    {
     "data": {
      "text/plain": [
       "[('closing_date', 'date'),\n",
       " ('join_date', 'date'),\n",
       " ('year', 'int'),\n",
       " ('cod_month', 'string'),\n",
       " ('closing_date_rank', 'int'),\n",
       " ('year_rank', 'int'),\n",
       " ('month_rank', 'int'),\n",
       " ('flag_current_date', 'int'),\n",
       " ('flag_ytd', 'int'),\n",
       " ('flag_yoy', 'int'),\n",
       " ('flag_ytd_py', 'int'),\n",
       " ('flag_mom', 'int'),\n",
       " ('flag_l12m', 'int'),\n",
       " ('flag_l12m_py', 'int')]"
      ]
     },
     "execution_count": 8,
     "metadata": {},
     "output_type": "execute_result"
    }
   ],
   "source": [
    "df.dtypes"
   ]
  }
 ],
 "metadata": {
  "kernelspec": {
   "display_name": "Python 3 (ipykernel)",
   "language": "python",
   "name": "python3"
  }
 },
 "nbformat": 4,
 "nbformat_minor": 2
}
