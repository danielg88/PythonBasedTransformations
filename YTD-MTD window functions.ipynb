{
 "cells": [
  {
   "cell_type": "code",
   "execution_count": 167,
   "metadata": {},
   "outputs": [],
   "source": [
    "from pyspark.sql import SparkSession\n",
    "from pyspark.sql import functions as F\n",
    "from pyspark.sql import Window\n",
    "\n",
    "# Spark session & context\n",
    "spark = SparkSession.builder.master(\"local\").getOrCreate()\n",
    "sc = spark.sparkContext"
   ]
  },
  {
   "cell_type": "code",
   "execution_count": 168,
   "metadata": {},
   "outputs": [],
   "source": [
    "path = \"/home/jovyan/work/Table.csv\"\n",
    "\n",
    "from pyspark.sql.types import LongType, StringType, StructField, StructType, BooleanType, ArrayType, IntegerType, DateType, DoubleType\n",
    "customSchema = StructType([\n",
    "    StructField(\"Region\", StringType(), True),        \n",
    "    StructField(\"Product\", StringType(), True),\n",
    "    StructField(\"Date\", DateType(), True),\n",
    "    StructField(\"Quantity\", IntegerType(), True),\n",
    "    StructField(\"Price\", StringType(), True) #String because csv uses comma as decimal separator and not supported directly in Spark\n",
    "])\n",
    "\n",
    "\n",
    "df_data = spark.read.schema(customSchema).options(delimiter=\";\", header=True).csv(path)\n",
    "df_data = df_data.withColumn('Price_number', F.regexp_replace('Price', ',', '.').cast(DoubleType())).drop('Price')\n",
    "df_data = df_data.withColumnRenamed('Price_number','Price')\n"
   ]
  },
  {
   "cell_type": "code",
   "execution_count": 175,
   "metadata": {},
   "outputs": [],
   "source": [
    "w = Window.partitionBy([\"Region\",\"Product\"]).orderBy((\"Date\"))"
   ]
  },
  {
   "cell_type": "code",
   "execution_count": 179,
   "metadata": {},
   "outputs": [
    {
     "name": "stdout",
     "output_type": "stream",
     "text": [
      "+------+--------+----------+--------+-----------+------------+\n",
      "|Region| Product|      Date|Quantity|      Price|Quantity YTD|\n",
      "+------+--------+----------+--------+-----------+------------+\n",
      "|  East|   Books|2024-03-02|      18| 555.315656|          18|\n",
      "|  East|   Books|2024-03-03|      32|131.2550527|          50|\n",
      "|  East|Computer|2024-03-01|      80|362.5919681|          80|\n",
      "|  East|Computer|2024-03-02|      37|584.9247303|         117|\n",
      "|  East|Computer|2024-03-03|      21|72.19181479|         138|\n",
      "|  East|   Music|2024-03-01|      94|663.0665039|          94|\n",
      "|  East|   Music|2024-03-02|      73|890.8353521|         167|\n",
      "|  East|   Music|2024-03-03|      91|542.7143176|         258|\n",
      "| North|   Books|2024-03-02|      27|824.2629527|          27|\n",
      "| North|   Books|2024-03-03|      54|954.3096495|          81|\n",
      "| North|Computer|2024-03-01|      65|556.9622863|          65|\n",
      "| North|Computer|2024-03-02|      97|39.36502872|         162|\n",
      "| North|Computer|2024-03-03|      97|892.2455727|         259|\n",
      "| North|   Music|2024-03-01|      75| 226.245412|          75|\n",
      "| North|   Music|2024-03-02|      74|134.4174636|         149|\n",
      "| North|   Music|2024-03-03|      43| 786.013758|         192|\n",
      "| South|   Books|2024-03-02|      77|400.7171382|          77|\n",
      "| South|   Books|2024-03-03|      82|216.2406028|         159|\n",
      "| South|Computer|2024-03-01|      93|647.1594121|          93|\n",
      "| South|Computer|2024-03-02|      45| 170.982804|         138|\n",
      "+------+--------+----------+--------+-----------+------------+\n",
      "only showing top 20 rows\n",
      "\n"
     ]
    }
   ],
   "source": [
    "df_data.withColumn(\"Quantity YTD\", F.sum('Quantity').over(w)).show()"
   ]
  },
  {
   "cell_type": "code",
   "execution_count": 185,
   "metadata": {},
   "outputs": [
    {
     "name": "stdout",
     "output_type": "stream",
     "text": [
      "+------+--------+----------+--------+-----------+------------+-------------+\n",
      "|Region| Product|      Date|Quantity|      Price|Quantity_MTD|    Price_MTD|\n",
      "+------+--------+----------+--------+-----------+------------+-------------+\n",
      "|  East|   Books|2024-03-02|      18| 555.315656|          18|   555.315656|\n",
      "|  East|   Books|2024-03-03|      32|131.2550527|          50|  686.5707087|\n",
      "|  East|Computer|2024-03-01|      80|362.5919681|          80|  362.5919681|\n",
      "|  East|Computer|2024-03-02|      37|584.9247303|         117|  947.5166984|\n",
      "|  East|Computer|2024-03-03|      21|72.19181479|         138|1019.70851319|\n",
      "|  East|   Music|2024-03-01|      94|663.0665039|          94|  663.0665039|\n",
      "|  East|   Music|2024-03-02|      73|890.8353521|         167|  1553.901856|\n",
      "|  East|   Music|2024-03-03|      91|542.7143176|         258| 2096.6161736|\n",
      "| North|   Books|2024-03-02|      27|824.2629527|          27|  824.2629527|\n",
      "| North|   Books|2024-03-03|      54|954.3096495|          81| 1778.5726022|\n",
      "| North|Computer|2024-03-01|      65|556.9622863|          65|  556.9622863|\n",
      "| North|Computer|2024-03-02|      97|39.36502872|         162| 596.32731502|\n",
      "| North|Computer|2024-03-03|      97|892.2455727|         259|1488.57288772|\n",
      "| North|   Music|2024-03-01|      75| 226.245412|          75|   226.245412|\n",
      "| North|   Music|2024-03-02|      74|134.4174636|         149|  360.6628756|\n",
      "| North|   Music|2024-03-03|      43| 786.013758|         192| 1146.6766336|\n",
      "| South|   Books|2024-03-02|      77|400.7171382|          77|  400.7171382|\n",
      "| South|   Books|2024-03-03|      82|216.2406028|         159|   616.957741|\n",
      "| South|Computer|2024-03-01|      93|647.1594121|          93|  647.1594121|\n",
      "| South|Computer|2024-03-02|      45| 170.982804|         138|  818.1422161|\n",
      "+------+--------+----------+--------+-----------+------------+-------------+\n",
      "only showing top 20 rows\n",
      "\n"
     ]
    }
   ],
   "source": [
    "w = Window.partitionBy([\"Region\",\"Product\",F.month(\"Date\")]).orderBy((\"Date\"))\n",
    "\n",
    "MTD_columns = { \"Quantity_MTD\": F.sum('Quantity').over(w),\n",
    "               \"Price_MTD\": F.sum('Price').over(w)\n",
    "}\n",
    "\n",
    "df_data.withColumns(MTD_columns).show()\n",
    "\n"
   ]
  }
 ],
 "metadata": {
  "kernelspec": {
   "display_name": "Python 3 (ipykernel)",
   "language": "python",
   "name": "python3"
  }
 },
 "nbformat": 4,
 "nbformat_minor": 2
}
