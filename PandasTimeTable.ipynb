{
 "cells": [
  {
   "cell_type": "code",
   "execution_count": null,
   "metadata": {},
   "outputs": [],
   "source": [
    "import pandas as pd"
   ]
  },
  {
   "cell_type": "code",
   "execution_count": null,
   "metadata": {},
   "outputs": [],
   "source": [
    "df = pd.date_range(start='01/01/2023', periods= 12, freq = 'M').to_frame(index=False, name='closing_date')\n",
    "df2 = pd.date_range(start='01/01/2021', periods= 36, freq = 'M').to_frame(index=False, name='join_date')"
   ]
  },
  {
   "cell_type": "code",
   "execution_count": null,
   "metadata": {},
   "outputs": [],
   "source": [
    "df3 = pd.merge(left=df, right=df2, how='cross')"
   ]
  },
  {
   "cell_type": "code",
   "execution_count": null,
   "metadata": {},
   "outputs": [],
   "source": [
    "# Remove future and past dates. Not needed\n",
    "df3 = df3[((df3['closing_date'] >= df3['join_date']) & (df3['closing_date']- pd.DateOffset(months=23) <= df3['join_date']))]"
   ]
  },
  {
   "cell_type": "code",
   "execution_count": null,
   "metadata": {},
   "outputs": [],
   "source": [
    "df3['year'] = df3['closing_date'].dt.year\n",
    "df3['month'] = df3['closing_date'].dt.strftime('%Y%m')\n",
    "df3['closing_date_rank']= df3['closing_date'].rank(method='dense', ascending=False).astype(int)\n",
    "df3['year_rank']= df3['year'].rank(method='dense', ascending=False).astype(int)\n",
    "df3['month_rank']= df3['month'].rank(method='dense', ascending=False).astype(int)"
   ]
  },
  {
   "cell_type": "code",
   "execution_count": null,
   "metadata": {},
   "outputs": [],
   "source": [
    "df3['flag_current_date'] = df3.apply(lambda x: 1 if x['closing_date'] == x['join_date'] else 0, axis=1)\n",
    "df3['flag_ytd'] = df3.apply(lambda x: 1 if x['year'] == x['join_date'].year else 0, axis=1)\n",
    "df3['flag_yoy'] = df3.apply(lambda x: 1 if (x['year'])-1 == x['join_date'].year and x['month'] == x['join_date'].month  else 0, axis=1)\n",
    "df3['flag_mom'] = df3.apply(lambda x: 1 if (x['closing_date'] - pd.DateOffset(months=1)) == x['join_date'] else 0, axis=1)\n",
    "df3['flag_l12m'] = df3.apply(lambda x: 1 if (x['closing_date'] - pd.DateOffset(months=11)) <= x['join_date'] else 0, axis=1)\n",
    "df3['flag_ytd_py'] = df3.apply(lambda x: 1 if (x['join_date'] >= x['closing_date'] - pd.DateOffset(year=x['year']-1) - pd.DateOffset(month=1))  \n",
    "                               and x['join_date'] <= x['closing_date'] - pd.DateOffset(year=x['year']-1)  else 0, axis=1)\n",
    "df3['flag_l12m_py'] = df3.apply(lambda x: 1 if (x['closing_date'] - pd.DateOffset(months=23)) <= x['join_date'] \n",
    "                                and x['join_date'] <= x['closing_date'] - pd.DateOffset(months=12) else 0, axis=1)"
   ]
  },
  {
   "cell_type": "code",
   "execution_count": null,
   "metadata": {},
   "outputs": [],
   "source": [
    "df3[(df3['closing_date'] == '2023-11-30')]"
   ]
  }
 ],
 "metadata": {
  "kernelspec": {
   "display_name": "Python 3 (ipykernel)",
   "language": "python",
   "name": "python3"
  },
  "language_info": {
   "codemirror_mode": {
    "name": "ipython",
    "version": 3
   },
   "file_extension": ".py",
   "mimetype": "text/x-python",
   "name": "python",
   "nbconvert_exporter": "python",
   "pygments_lexer": "ipython3",
   "version": "3.9.11"
  }
 },
 "nbformat": 4,
 "nbformat_minor": 2
}
